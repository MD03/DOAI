{
  "nbformat": 4,
  "nbformat_minor": 0,
  "metadata": {
    "colab": {
      "provenance": [],
      "authorship_tag": "ABX9TyN5B52LkESBtVjlnoBkKorB",
      "include_colab_link": true
    },
    "kernelspec": {
      "name": "python3",
      "display_name": "Python 3"
    },
    "language_info": {
      "name": "python"
    }
  },
  "cells": [
    {
      "cell_type": "markdown",
      "metadata": {
        "id": "view-in-github",
        "colab_type": "text"
      },
      "source": [
        "<a href=\"https://colab.research.google.com/github/MD03/DOAI/blob/main/Data_preprocessing_and_annotation.ipynb\" target=\"_parent\"><img src=\"https://colab.research.google.com/assets/colab-badge.svg\" alt=\"Open In Colab\"/></a>"
      ]
    },
    {
      "cell_type": "code",
      "execution_count": null,
      "metadata": {
        "id": "zHUbZV_fH_yA"
      },
      "outputs": [],
      "source": [
        "import pandas as pd\n",
        "from sklearn.datasets import load_iris\n",
        "from sklearn.model_selection import train_test_split\n",
        "from sklearn.preprocessing import StandardScaler, LabelEncoder\n",
        "iris = load_iris()\n",
        "data = iris.data\n",
        "target = iris.target\n",
        "columns = ['sepal_length', 'sepal_width', 'petal_length', 'petal_width']\n",
        "df = pd.DataFrame(data, columns=columns)\n",
        "df['species'] = target\n",
        "df['annotation'] = ['Good' if x == 0 else 'Moderate' if x == 1 else 'Bad' for x in df['species']]\n",
        "print(\"Original Dataset:\")\n",
        "print(df.head())"
      ]
    },
    {
      "cell_type": "code",
      "source": [
        "label_encoder = LabelEncoder()\n",
        "df['species'] = label_encoder.fit_transform(df['species'])\n",
        "X = df.drop(['species', 'annotation'], axis=1)\n",
        "y = df['species']\n",
        "\n",
        "X_train, X_test, y_train, y_test = train_test_split(X, y, test_size=0.2, random_state=42)\n",
        "\n",
        "scaler = StandardScaler()\n",
        "X_train_scaled = scaler.fit_transform(X_train)\n",
        "X_test_scaled = scaler.transform(X_test)\n",
        "\n",
        "X_train.to_csv('X_train.csv', index=False)\n",
        "X_test.to_csv('X_test.csv', index=False)\n",
        "y_train.to_csv('y_train.csv', index=False, header=True)\n",
        "y_test.to_csv('y_test.csv', index=False, header=True)\n",
        "print(\"\\nPreprocessed and Annotated Dataset:\")\n",
        "print(X_train.head())"
      ],
      "metadata": {
        "id": "vNkGKpggIGk6"
      },
      "execution_count": null,
      "outputs": []
    },
    {
      "cell_type": "code",
      "source": [
        "print(X_test.head())"
      ],
      "metadata": {
        "id": "1YyS9hQTILSM"
      },
      "execution_count": null,
      "outputs": []
    },
    {
      "cell_type": "code",
      "source": [
        "print(y_train.head())"
      ],
      "metadata": {
        "id": "wVzoK46lINLM"
      },
      "execution_count": null,
      "outputs": []
    },
    {
      "cell_type": "code",
      "source": [
        "print(y_test.head())"
      ],
      "metadata": {
        "id": "VJdMxa7LIPQY"
      },
      "execution_count": null,
      "outputs": []
    }
  ]
}