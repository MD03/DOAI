{
  "nbformat": 4,
  "nbformat_minor": 0,
  "metadata": {
    "colab": {
      "provenance": [],
      "authorship_tag": "ABX9TyMdZlCfDFqkOnPItLzOag34",
      "include_colab_link": true
    },
    "kernelspec": {
      "name": "python3",
      "display_name": "Python 3"
    },
    "language_info": {
      "name": "python"
    }
  },
  "cells": [
    {
      "cell_type": "markdown",
      "metadata": {
        "id": "view-in-github",
        "colab_type": "text"
      },
      "source": [
        "<a href=\"https://colab.research.google.com/github/MD03/DOAI/blob/main/Grid_game.ipynb\" target=\"_parent\"><img src=\"https://colab.research.google.com/assets/colab-badge.svg\" alt=\"Open In Colab\"/></a>"
      ]
    },
    {
      "cell_type": "code",
      "execution_count": 2,
      "metadata": {
        "colab": {
          "base_uri": "https://localhost:8080/"
        },
        "id": "Uo8KW8jVlgQJ",
        "outputId": "ab91d762-b70b-49fa-ffa3-cdbb043cdeda"
      },
      "outputs": [
        {
          "output_type": "stream",
          "name": "stdout",
          "text": [
            "+---+---+---+\n",
            "| A |   |   |\n",
            "+---+---+---+\n",
            "|   |   |   |\n",
            "+---+---+---+\n",
            "|   |   | G |\n",
            "+---+---+---+\n",
            "+---+---+---+\n",
            "|   | A |   |\n",
            "+---+---+---+\n",
            "|   |   |   |\n",
            "+---+---+---+\n",
            "|   |   | G |\n",
            "+---+---+---+\n",
            "+---+---+---+\n",
            "|   |   |   |\n",
            "+---+---+---+\n",
            "|   | A |   |\n",
            "+---+---+---+\n",
            "|   |   | G |\n",
            "+---+---+---+\n",
            "+---+---+---+\n",
            "|   |   |   |\n",
            "+---+---+---+\n",
            "| A |   |   |\n",
            "+---+---+---+\n",
            "|   |   | G |\n",
            "+---+---+---+\n",
            "+---+---+---+\n",
            "|   |   |   |\n",
            "+---+---+---+\n",
            "|   | A |   |\n",
            "+---+---+---+\n",
            "|   |   | G |\n",
            "+---+---+---+\n",
            "+---+---+---+\n",
            "|   |   |   |\n",
            "+---+---+---+\n",
            "|   |   |   |\n",
            "+---+---+---+\n",
            "|   | A | G |\n",
            "+---+---+---+\n",
            "+---+---+---+\n",
            "|   |   |   |\n",
            "+---+---+---+\n",
            "|   |   |   |\n",
            "+---+---+---+\n",
            "|   | A | G |\n",
            "+---+---+---+\n",
            "+---+---+---+\n",
            "|   |   |   |\n",
            "+---+---+---+\n",
            "|   |   |   |\n",
            "+---+---+---+\n",
            "|   |   | A |\n",
            "+---+---+---+\n",
            "Total Reward: 4\n"
          ]
        }
      ],
      "source": [
        "import numpy as np\n",
        "\n",
        "class Gridworld:\n",
        "    def __init__(self, size=3):\n",
        "        self.size = size\n",
        "        self.agent_pos = (0, 0)\n",
        "        self.goal = (size - 1, size - 1)\n",
        "\n",
        "    def reset(self):\n",
        "        self.agent_pos = (0, 0)\n",
        "        return self.agent_pos\n",
        "\n",
        "    def step(self, action):\n",
        "        moves = [(0, -1), (0, 1), (-1, 0), (1, 0)]\n",
        "        move = moves[action]\n",
        "        new_pos = (self.agent_pos[0] + move[0], self.agent_pos[1] + move[1])\n",
        "\n",
        "        if 0 <= new_pos[0] < self.size and 0 <= new_pos[1] < self.size:\n",
        "            self.agent_pos = new_pos\n",
        "\n",
        "        reward = -1\n",
        "        done = self.agent_pos == self.goal\n",
        "        return self.agent_pos, 10 if done else reward, done\n",
        "\n",
        "    def render(self):\n",
        "        for i in range(self.size):\n",
        "            print(\"+---\" * self.size + \"+\")\n",
        "            for j in range(self.size):\n",
        "                if (i, j) == self.agent_pos:\n",
        "                    print(\"| A \", end=\"\")\n",
        "                elif (i, j) == self.goal:\n",
        "                    print(\"| G \", end=\"\")\n",
        "                else:\n",
        "                    print(\"|   \", end=\"\")\n",
        "            print(\"|\")\n",
        "        print(\"+---\" * self.size + \"+\")\n",
        "\n",
        "class Agent:\n",
        "    def act(self, state):\n",
        "        return np.random.randint(0, 4)\n",
        "\n",
        "env = Gridworld()\n",
        "agent = Agent()\n",
        "total_reward = 0\n",
        "state = env.reset()\n",
        "env.render()\n",
        "\n",
        "while True:\n",
        "    action = agent.act(state)\n",
        "    next_state, reward, done = env.step(action)\n",
        "    total_reward += reward\n",
        "    state = next_state\n",
        "    env.render()\n",
        "    if done:\n",
        "        print(\"Total Reward:\", total_reward)\n",
        "        break"
      ]
    }
  ]
}