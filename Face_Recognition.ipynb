{
  "nbformat": 4,
  "nbformat_minor": 0,
  "metadata": {
    "colab": {
      "provenance": [],
      "authorship_tag": "ABX9TyNdmo9fcFN7VUWflOEMXnSY",
      "include_colab_link": true
    },
    "kernelspec": {
      "name": "python3",
      "display_name": "Python 3"
    },
    "language_info": {
      "name": "python"
    }
  },
  "cells": [
    {
      "cell_type": "markdown",
      "metadata": {
        "id": "view-in-github",
        "colab_type": "text"
      },
      "source": [
        "<a href=\"https://colab.research.google.com/github/MD03/DOAI/blob/main/Face_Recognition.ipynb\" target=\"_parent\"><img src=\"https://colab.research.google.com/assets/colab-badge.svg\" alt=\"Open In Colab\"/></a>"
      ]
    },
    {
      "cell_type": "code",
      "source": [
        "#https://cmake.org/download/\n",
        "!pip install cmake"
      ],
      "metadata": {
        "colab": {
          "base_uri": "https://localhost:8080/"
        },
        "id": "IQ3LYnVhvYou",
        "outputId": "c870e61e-b8c2-4cd6-daf4-2b3d16fc6b93"
      },
      "execution_count": 2,
      "outputs": [
        {
          "output_type": "stream",
          "name": "stdout",
          "text": [
            "Requirement already satisfied: cmake in /usr/local/lib/python3.10/dist-packages (3.27.9)\n"
          ]
        }
      ]
    },
    {
      "cell_type": "code",
      "source": [
        "!pip install dlib"
      ],
      "metadata": {
        "colab": {
          "base_uri": "https://localhost:8080/"
        },
        "id": "_j4DIXG3vbt6",
        "outputId": "eef1a216-1ae7-4ef4-8222-f3a9905e4056"
      },
      "execution_count": 3,
      "outputs": [
        {
          "output_type": "stream",
          "name": "stdout",
          "text": [
            "Requirement already satisfied: dlib in /usr/local/lib/python3.10/dist-packages (19.24.4)\n"
          ]
        }
      ]
    },
    {
      "cell_type": "code",
      "execution_count": 1,
      "metadata": {
        "colab": {
          "base_uri": "https://localhost:8080/"
        },
        "id": "yNlmEF6SmDio",
        "outputId": "973a1b91-9633-4f26-d805-cccb57dcc9ad"
      },
      "outputs": [
        {
          "output_type": "stream",
          "name": "stdout",
          "text": [
            "Collecting face_recognition\n",
            "  Downloading face_recognition-1.3.0-py2.py3-none-any.whl (15 kB)\n",
            "Requirement already satisfied: opencv-python-headless in /usr/local/lib/python3.10/dist-packages (4.9.0.80)\n",
            "Collecting face-recognition-models>=0.3.0 (from face_recognition)\n",
            "  Downloading face_recognition_models-0.3.0.tar.gz (100.1 MB)\n",
            "\u001b[2K     \u001b[90m━━━━━━━━━━━━━━━━━━━━━━━━━━━━━━━━━━━━━━━━\u001b[0m \u001b[32m100.1/100.1 MB\u001b[0m \u001b[31m7.5 MB/s\u001b[0m eta \u001b[36m0:00:00\u001b[0m\n",
            "\u001b[?25h  Preparing metadata (setup.py) ... \u001b[?25l\u001b[?25hdone\n",
            "Requirement already satisfied: Click>=6.0 in /usr/local/lib/python3.10/dist-packages (from face_recognition) (8.1.7)\n",
            "Requirement already satisfied: dlib>=19.7 in /usr/local/lib/python3.10/dist-packages (from face_recognition) (19.24.4)\n",
            "Requirement already satisfied: numpy in /usr/local/lib/python3.10/dist-packages (from face_recognition) (1.25.2)\n",
            "Requirement already satisfied: Pillow in /usr/local/lib/python3.10/dist-packages (from face_recognition) (9.4.0)\n",
            "Building wheels for collected packages: face-recognition-models\n",
            "  Building wheel for face-recognition-models (setup.py) ... \u001b[?25l\u001b[?25hdone\n",
            "  Created wheel for face-recognition-models: filename=face_recognition_models-0.3.0-py2.py3-none-any.whl size=100566170 sha256=0aa1ae24008b0742ed317f3c7d0d30e557e9c52a3bab08ade7d2c251f56244ce\n",
            "  Stored in directory: /root/.cache/pip/wheels/7a/eb/cf/e9eced74122b679557f597bb7c8e4c739cfcac526db1fd523d\n",
            "Successfully built face-recognition-models\n",
            "Installing collected packages: face-recognition-models, face_recognition\n",
            "Successfully installed face-recognition-models-0.3.0 face_recognition-1.3.0\n"
          ]
        }
      ],
      "source": [
        "!pip install face_recognition opencv-python-headless"
      ]
    },
    {
      "cell_type": "code",
      "source": [
        "import face_recognition\n",
        "import cv2\n",
        "\n",
        "# Load images\n",
        "known_image = face_recognition.load_image_file(\"known_face.jpg\")\n",
        "unknown_image = face_recognition.load_image_file(\"unknown_face.jpg\")\n",
        "\n",
        "# Encode faces\n",
        "known_face_encoding = face_recognition.face_encodings(known_image)[0]\n",
        "unknown_face_encoding = face_recognition.face_encodings(unknown_image)[0]\n",
        "\n",
        "# Compare faces\n",
        "results = face_recognition.compare_faces([known_face_encoding], unknown_face_encoding)\n",
        "\n",
        "if results[0]:\n",
        "    print(\"The faces match!\")\n",
        "else:\n",
        "    print(\"The faces do not match!\")\n",
        "\n",
        "# Display the images with rectangles around the faces\n",
        "known_face_location = face_recognition.face_locations(known_image)[0]\n",
        "unknown_face_location = face_recognition.face_locations(unknown_image)[0]\n",
        "\n",
        "top, right, bottom, left = known_face_location\n",
        "cv2.rectangle(known_image, (left, top), (right, bottom), (0, 255, 0), 2)\n",
        "\n",
        "top, right, bottom, left = unknown_face_location\n",
        "cv2.rectangle(unknown_image, (left, top), (right, bottom), (0, 255, 0), 2)\n",
        "\n",
        "# Display the images\n",
        "cv2.imshow(\"Known Face\", known_image)\n",
        "cv2.imshow(\"Unknown Face\", unknown_image)\n",
        "cv2.waitKey(0)\n",
        "cv2.destroyAllWindows()"
      ],
      "metadata": {
        "id": "up7aSBwRup_n"
      },
      "execution_count": null,
      "outputs": []
    }
  ]
}