{
  "nbformat": 4,
  "nbformat_minor": 0,
  "metadata": {
    "colab": {
      "provenance": [],
      "authorship_tag": "ABX9TyOd77ca/WnV+jSmP/zTSN77",
      "include_colab_link": true
    },
    "kernelspec": {
      "name": "python3",
      "display_name": "Python 3"
    },
    "language_info": {
      "name": "python"
    }
  },
  "cells": [
    {
      "cell_type": "markdown",
      "metadata": {
        "id": "view-in-github",
        "colab_type": "text"
      },
      "source": [
        "<a href=\"https://colab.research.google.com/github/MD03/DOAI/blob/main/3_X_3_magic_square.ipynb\" target=\"_parent\"><img src=\"https://colab.research.google.com/assets/colab-badge.svg\" alt=\"Open In Colab\"/></a>"
      ]
    },
    {
      "cell_type": "code",
      "execution_count": null,
      "metadata": {
        "colab": {
          "base_uri": "https://localhost:8080/"
        },
        "id": "gkGEQyyNkl4c",
        "outputId": "56abcff7-cab4-4587-830c-28aacd9ab6de"
      },
      "outputs": [
        {
          "output_type": "stream",
          "name": "stdout",
          "text": [
            "Magic Square:\n",
            "[8, 1, 6]\n",
            "[3, 5, 7]\n",
            "[4, 9, 2]\n"
          ]
        }
      ],
      "source": [
        "def generate_magic_square(n):\n",
        "    magic_square = [[0] * n for _ in range(n)]\n",
        "    num = 1\n",
        "    i, j = 0, n // 2\n",
        "\n",
        "    while num <= n * n:\n",
        "        magic_square[i][j] = num\n",
        "        num += 1\n",
        "        new_i, new_j = (i - 1) % n, (j + 1) % n\n",
        "        if magic_square[new_i][new_j] != 0:\n",
        "            i += 1\n",
        "        else:\n",
        "            i, j = new_i, new_j\n",
        "\n",
        "    return magic_square\n",
        "\n",
        "def print_magic_square(magic_square):\n",
        "    n = len(magic_square)\n",
        "    max_width = len(str(n * n))\n",
        "    for i in range(n):\n",
        "        for j in range(n):\n",
        "            print(f\"{magic_square[i][j]:>{max_width}}\", end=\"\\t\")\n",
        "        print()\n",
        "\n",
        "n = 3  # Change this value to generate magic squares of different sizes\n",
        "magic_square = generate_magic_square(n)\n",
        "print(\"Magic Square:\")\n",
        "print_magic_square(magic_square)\n",
        "if check_magic_square(magic_square):\n",
        "    print(\"Congratulations! It's a magic square!\")\n",
        "    reward = 1  # Set a positive reward for success\n",
        "else:\n",
        "    print(\"Oops! It's not a magic square.\")\n",
        "    reward = -1  # Set a negative reward for failure\n",
        "\n",
        "print(\"Reward:\", reward)"
      ]
    }
  ]
}