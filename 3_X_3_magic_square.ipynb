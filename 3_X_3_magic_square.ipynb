{
  "nbformat": 4,
  "nbformat_minor": 0,
  "metadata": {
    "colab": {
      "provenance": [],
      "authorship_tag": "ABX9TyNHmpJGfPl3yd8XAuJQk6j3",
      "include_colab_link": true
    },
    "kernelspec": {
      "name": "python3",
      "display_name": "Python 3"
    },
    "language_info": {
      "name": "python"
    }
  },
  "cells": [
    {
      "cell_type": "markdown",
      "metadata": {
        "id": "view-in-github",
        "colab_type": "text"
      },
      "source": [
        "<a href=\"https://colab.research.google.com/github/MD03/DOAI/blob/main/3_X_3_magic_square.ipynb\" target=\"_parent\"><img src=\"https://colab.research.google.com/assets/colab-badge.svg\" alt=\"Open In Colab\"/></a>"
      ]
    },
    {
      "cell_type": "code",
      "execution_count": 1,
      "metadata": {
        "colab": {
          "base_uri": "https://localhost:8080/"
        },
        "id": "gkGEQyyNkl4c",
        "outputId": "56abcff7-cab4-4587-830c-28aacd9ab6de"
      },
      "outputs": [
        {
          "output_type": "stream",
          "name": "stdout",
          "text": [
            "Magic Square:\n",
            "[8, 1, 6]\n",
            "[3, 5, 7]\n",
            "[4, 9, 2]\n"
          ]
        }
      ],
      "source": [
        "def generate_magic_square():\n",
        "    magic_square = [[0, 0, 0], [0, 0, 0], [0, 0, 0]]\n",
        "\n",
        "    n = 3\n",
        "    num = 1\n",
        "    i, j = 0, n // 2\n",
        "\n",
        "    while num <= n * n:\n",
        "        magic_square[i][j] = num\n",
        "        num += 1\n",
        "\n",
        "        new_i, new_j = (i - 1) % n, (j + 1) % n\n",
        "\n",
        "        if magic_square[new_i][new_j]:\n",
        "            i += 1\n",
        "        else:\n",
        "            i, j = new_i, new_j\n",
        "\n",
        "    return magic_square\n",
        "\n",
        "def print_magic_square(square):\n",
        "    for row in square:\n",
        "        print(row)\n",
        "\n",
        "if __name__ == \"__main__\":\n",
        "    magic_square = generate_magic_square()\n",
        "    print(\"Magic Square:\")\n",
        "    print_magic_square(magic_square)"
      ]
    }
  ]
}