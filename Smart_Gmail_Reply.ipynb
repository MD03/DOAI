{
  "nbformat": 4,
  "nbformat_minor": 0,
  "metadata": {
    "colab": {
      "provenance": [],
      "authorship_tag": "ABX9TyP80ak9d62E3nDn2eFt+7hV",
      "include_colab_link": true
    },
    "kernelspec": {
      "name": "python3",
      "display_name": "Python 3"
    },
    "language_info": {
      "name": "python"
    }
  },
  "cells": [
    {
      "cell_type": "markdown",
      "metadata": {
        "id": "view-in-github",
        "colab_type": "text"
      },
      "source": [
        "<a href=\"https://colab.research.google.com/github/MD03/DOAI/blob/main/Smart_Gmail_Reply.ipynb\" target=\"_parent\"><img src=\"https://colab.research.google.com/assets/colab-badge.svg\" alt=\"Open In Colab\"/></a>"
      ]
    },
    {
      "cell_type": "code",
      "execution_count": null,
      "metadata": {
        "id": "B_9A6DJRIbq8"
      },
      "outputs": [],
      "source": [
        "import nltk\n",
        "from nltk import word_tokenize, pos_tag\n",
        "import re #regular expressions\n",
        "\n",
        "nltk.download('punkt')\n",
        "nltk.download('averaged_perceptron_tagger')\n",
        "\n",
        "def generate_smart_reply(user_input):\n",
        "    tokens = word_tokenize(user_input)\n",
        "    pos_tags = pos_tag(tokens)\n",
        "\n",
        "    question_pattern = re.compile(r'\\b(?:what|when|where|who|how)\\b', re.IGNORECASE)\n",
        "    greeting_pattern = re.compile(r'\\b(?:hi|hello|hey)\\b', re.IGNORECASE)\n",
        "\n",
        "    if question_pattern.search(user_input):\n",
        "        return \"I'm not sure. Can you provide more details?\"\n",
        "\n",
        "    if greeting_pattern.search(user_input):\n",
        "        return \"Hello! How can I assist you today?\"\n",
        "\n",
        "    return \"I'm not sure how to respond to that.\"\n",
        "\n",
        "# User input\n",
        "user_input = input(\"Enter a message: \")\n",
        "\n",
        "# Generate and print the smart reply\n",
        "smart_reply = generate_smart_reply(user_input)\n",
        "print(\"\\nGenerated Smart Reply:\", smart_reply)"
      ]
    }
  ]
}