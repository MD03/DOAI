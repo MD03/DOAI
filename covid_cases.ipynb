{
  "nbformat": 4,
  "nbformat_minor": 0,
  "metadata": {
    "colab": {
      "provenance": [],
      "authorship_tag": "ABX9TyMyOZkiDYT6zQC/UE/OnELA",
      "include_colab_link": true
    },
    "kernelspec": {
      "name": "python3",
      "display_name": "Python 3"
    },
    "language_info": {
      "name": "python"
    }
  },
  "cells": [
    {
      "cell_type": "markdown",
      "metadata": {
        "id": "view-in-github",
        "colab_type": "text"
      },
      "source": [
        "<a href=\"https://colab.research.google.com/github/MD03/DOAI/blob/main/covid_cases.ipynb\" target=\"_parent\"><img src=\"https://colab.research.google.com/assets/colab-badge.svg\" alt=\"Open In Colab\"/></a>"
      ]
    },
    {
      "cell_type": "code",
      "execution_count": null,
      "metadata": {
        "id": "4YAMYYHBjMeE"
      },
      "outputs": [],
      "source": [
        "# Import necessary libraries\n",
        "import pandas as pd\n",
        "from sklearn.model_selection import train_test_split\n",
        "from sklearn.ensemble import RandomForestClassifier\n",
        "from sklearn.metrics import accuracy_score, classification_report\n",
        "import matplotlib.pyplot as plt\n",
        "\n",
        "# Load the dataset\n",
        "url = \"https://tinyurl.com/67a9dt5j\"\n",
        "covid_data = pd.read_csv(url)\n",
        "# Drop rows with missing values in important columns\n",
        "covid_data.dropna(subset=['location', 'total_cases', 'total_deaths', 'population'], inplace=True)\n",
        "\n",
        "# Feature engineering: Calculate cases and deaths per population\n",
        "covid_data['cases_per_population'] = covid_data['total_cases'] / covid_data['population']\n",
        "covid_data['deaths_per_population'] = covid_data['total_deaths'] / covid_data['population']\n",
        "\n",
        "# Select relevant features for the model\n",
        "features = ['cases_per_population', 'deaths_per_population']\n",
        "\n",
        "# Target variable: Binary classification (1 if location is prone to COVID, 0 otherwise)\n",
        "covid_data['prone_to_covid'] = (covid_data['new_cases_smoothed_per_million'] > 10).astype(int)\n",
        "\n",
        "# Split data into training and testing sets\n",
        "X_train, X_test, y_train, y_test = train_test_split(covid_data[features], covid_data['prone_to_covid'], test_size=0.2, random_state=42)\n",
        "\n",
        "# Train Random Forest Classifier\n",
        "clf = RandomForestClassifier(n_estimators=100, random_state=42)\n",
        "clf.fit(X_train, y_train)\n",
        "\n",
        "# Predictions\n",
        "y_pred = clf.predict(X_test)\n",
        "\n",
        "# Model evaluation\n",
        "accuracy = accuracy_score(y_test, y_pred)\n",
        "print(\"Accuracy:\", accuracy)\n",
        "print(\"Classification Report:\")\n",
        "print(classification_report(y_test, y_pred))"
      ]
    }
  ]
}