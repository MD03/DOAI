{
  "nbformat": 4,
  "nbformat_minor": 0,
  "metadata": {
    "colab": {
      "provenance": [],
      "authorship_tag": "ABX9TyOiOz52Y+YnMLCxlcldKcey",
      "include_colab_link": true
    },
    "kernelspec": {
      "name": "python3",
      "display_name": "Python 3"
    },
    "language_info": {
      "name": "python"
    }
  },
  "cells": [
    {
      "cell_type": "markdown",
      "metadata": {
        "id": "view-in-github",
        "colab_type": "text"
      },
      "source": [
        "<a href=\"https://colab.research.google.com/github/MD03/DOAI/blob/main/Student_performance.ipynb\" target=\"_parent\"><img src=\"https://colab.research.google.com/assets/colab-badge.svg\" alt=\"Open In Colab\"/></a>"
      ]
    },
    {
      "cell_type": "code",
      "execution_count": null,
      "metadata": {
        "id": "X9iV7vNrI5O4"
      },
      "outputs": [],
      "source": [
        "import pandas as pd\n",
        "from sklearn.cluster import KMeans\n",
        "from sklearn.preprocessing import StandardScaler\n",
        "import matplotlib.pyplot as plt\n",
        "\n",
        "#Create a sample student performance dataset\n",
        "data = {\n",
        "    'Math': [80, 85, 92, 45, 70, 78, 60, 92, 55, 88],\n",
        "    'English': [75, 90, 85, 50, 60, 70, 65, 95, 50, 80],\n",
        "    'Science': [90, 88, 78, 60, 70, 75, 80, 85, 65, 92]\n",
        "}\n",
        "\n",
        "df = pd.DataFrame(data)\n",
        "\n",
        "#Standardize the features\n",
        "scaler = StandardScaler()\n",
        "data_scaled = scaler.fit_transform(df)\n",
        "\n",
        "#Apply K-Means clustering\n",
        "kmeans = KMeans(n_clusters=3, random_state=42, n_init='auto')\n",
        "df['cluster'] = kmeans.fit_predict(data_scaled)\n",
        "\n",
        "#Display the clusters\n",
        "print(\"Clusters:\")\n",
        "print(df[['Math', 'English', 'Science', 'cluster']])\n",
        "\n",
        "inertia = kmeans.inertia_\n",
        "\n",
        "#Display results\n",
        "print(\"\\nInertia (Within-Cluster Sum of Squares):\", inertia)\n",
        "\n",
        "#clusters\n",
        "plt.scatter(df['Math'], df['English'], c=df['cluster'], cmap='viridis')\n",
        "plt.title('K-Means Clustering of Student Performance')\n",
        "plt.xlabel('Math')\n",
        "plt.ylabel('English')\n",
        "plt.show()"
      ]
    }
  ]
}