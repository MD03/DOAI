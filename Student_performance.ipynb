{
  "nbformat": 4,
  "nbformat_minor": 0,
  "metadata": {
    "colab": {
      "provenance": [],
      "authorship_tag": "ABX9TyN8Vesfz/BgmURKNMZb4sou",
      "include_colab_link": true
    },
    "kernelspec": {
      "name": "python3",
      "display_name": "Python 3"
    },
    "language_info": {
      "name": "python"
    }
  },
  "cells": [
    {
      "cell_type": "markdown",
      "metadata": {
        "id": "view-in-github",
        "colab_type": "text"
      },
      "source": [
        "<a href=\"https://colab.research.google.com/github/MD03/DOAI/blob/main/Student_performance.ipynb\" target=\"_parent\"><img src=\"https://colab.research.google.com/assets/colab-badge.svg\" alt=\"Open In Colab\"/></a>"
      ]
    },
    {
      "cell_type": "code",
      "execution_count": null,
      "metadata": {
        "id": "X9iV7vNrI5O4"
      },
      "outputs": [],
      "source": [
        "#student performance uisng SVM\n",
        "import pandas as pd\n",
        "from sklearn.svm import OneClassSVM\n",
        "from sklearn.preprocessing import StandardScaler\n",
        "import matplotlib.pyplot as plt\n",
        "\n",
        "# Load data\n",
        "student_data = pd.read_csv('student_performance.csv')\n",
        "\n",
        "# Drop irrelevant columns or handle missing values\n",
        "\n",
        "# Select relevant features\n",
        "X = student_data[['exam_score', 'attendance', 'study_time']]\n",
        "\n",
        "# Standardize features\n",
        "scaler = StandardScaler()\n",
        "X_scaled = scaler.fit_transform(X)\n",
        "\n",
        "# Apply One-Class SVM for clustering\n",
        "svm = OneClassSVM(nu=0.05)  # Adjust nu parameter as needed\n",
        "student_data['cluster'] = svm.fit_predict(X_scaled)\n",
        "\n",
        "# Visualize clusters\n",
        "plt.scatter(student_data['exam_score'], student_data['attendance'], c=student_data['cluster'], cmap='viridis')\n",
        "plt.xlabel('Exam Score')\n",
        "plt.ylabel('Attendance')\n",
        "plt.title('Student Performance Clusters (One-Class SVM)')\n",
        "plt.show()\n",
        "\n",
        "# Analyze cluster characteristics\n",
        "cluster_counts = student_data['cluster'].value_counts()\n",
        "print(cluster_counts)"
      ]
    }
  ]
}